{
  "nbformat": 4,
  "nbformat_minor": 0,
  "metadata": {
    "colab": {
      "provenance": [],
      "authorship_tag": "ABX9TyNhAMTEqfIHfr70+EAgohP9"
    },
    "kernelspec": {
      "name": "python3",
      "display_name": "Python 3"
    },
    "language_info": {
      "name": "python"
    }
  },
  "cells": [
    {
      "cell_type": "code",
      "execution_count": null,
      "metadata": {
        "id": "gUEYTEiMtsDk"
      },
      "outputs": [],
      "source": [
        "#条件判定対象の数値が変数varに代入されている\n",
        "#if文で想定通りの条件に分岐した結果が出力されている"
      ]
    },
    {
      "cell_type": "code",
      "source": [
        "#（前提）ランダム関数を準備\n",
        "import random\n",
        "\n",
        "#変数verにランダムに数値を代入\n",
        "var = random.randint(0,100)\n",
        "\n",
        "#変数varを出力\n",
        "print(var)\n",
        "\n",
        "#変数varが、3の倍数と5の倍数の両方に該当する鵜場合は「FizzBuzz」を出力\n",
        "if var % 3 == 0 and var % 5 == 0 :\n",
        "   print(\"FizzBuzz\")\n",
        "\n",
        "#変数varが、3の倍数の場合は「Fizz」を出力\n",
        "elif var %  3 == 0 :\n",
        "   print(\"Fizz\")\n",
        "#変数varが、5の倍数の場合は「Buzz」を出力\n",
        "elif var %  5 == 0 :\n",
        "   print(\"Buzz\")\n",
        "\n",
        "#上記のどの場合にも該当しない場合は、変数varの値を出力\n",
        "else :\n",
        "   print(var)"
      ],
      "metadata": {
        "colab": {
          "base_uri": "https://localhost:8080/"
        },
        "id": "3JSsNL3CulxJ",
        "outputId": "d894e953-aa5e-4c48-a219-0c55cf594e1e"
      },
      "execution_count": 49,
      "outputs": [
        {
          "output_type": "stream",
          "name": "stdout",
          "text": [
            "90\n",
            "FizzBuzz\n"
          ]
        }
      ]
    }
  ]
}